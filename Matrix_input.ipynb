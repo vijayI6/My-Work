{
 "cells": [
  {
   "cell_type": "code",
   "execution_count": 2,
   "id": "944e3adb",
   "metadata": {},
   "outputs": [
    {
     "name": "stdout",
     "output_type": "stream",
     "text": [
      "3\n",
      "3\n",
      "Enter elements in row-wise\n",
      "1\n",
      "2\n",
      "3\n",
      "4\n",
      "5\n",
      "6\n",
      "7\n",
      "8\n",
      "9\n",
      "1 2 3 \n",
      "4 5 6 \n",
      "7 8 9 \n"
     ]
    }
   ],
   "source": [
    "#1-way --> General way\n",
    "\n",
    "row = int(input())\n",
    "col = int(input())\n",
    "\n",
    "print(\"Enter elements in row-wise\")\n",
    "\n",
    "#input matrix\n",
    "mat = []\n",
    "for i in range(row):\n",
    "    a = []\n",
    "    for j in range(col):\n",
    "        a.append(int(input()))\n",
    "    mat.append(a)\n",
    "    \n",
    "# printing matrix\n",
    "for i in range(row):\n",
    "    for j in range(col):\n",
    "        print(mat[i][j],end=' ')\n",
    "    print()"
   ]
  },
  {
   "cell_type": "code",
   "execution_count": 8,
   "id": "8ac2618f",
   "metadata": {},
   "outputs": [
    {
     "name": "stdout",
     "output_type": "stream",
     "text": [
      "3\n",
      "3\n",
      "1 2 3 4 5 6 7 8 9\n",
      "[[1 2 3]\n",
      " [4 5 6]\n",
      " [7 8 9]]\n"
     ]
    }
   ],
   "source": [
    "# 2-way using numpy moudule\n",
    "\n",
    "import numpy as np\n",
    "\n",
    "row = int(input())\n",
    "col = int(input())\n",
    "\n",
    "a = list(map(int,input().split(' ')))\n",
    "mat = np.array(a).reshape(row,col)\n",
    "print(mat)"
   ]
  },
  {
   "cell_type": "code",
   "execution_count": 17,
   "id": "e8b7b95e",
   "metadata": {},
   "outputs": [
    {
     "name": "stdout",
     "output_type": "stream",
     "text": [
      "3\n",
      "3\n",
      "2\n",
      "3\n",
      "4\n",
      "5\n",
      "6\n",
      "7\n",
      "8\n",
      "9\n",
      "1\n",
      "[2, 3, 4]\n",
      "[5, 6, 7]\n",
      "[8, 9, 1]\n"
     ]
    }
   ],
   "source": [
    "# 3-way --> using oneliner\n",
    "\n",
    "r = int(input())\n",
    "c = int(input())\n",
    "mat = [[int(input()) for x in range (r)] for y in range(c)]\n",
    "print(mat[0])\n",
    "print(mat[1])\n",
    "print(mat[2])"
   ]
  },
  {
   "cell_type": "code",
   "execution_count": null,
   "id": "db9ae8b8",
   "metadata": {},
   "outputs": [],
   "source": []
  }
 ],
 "metadata": {
  "kernelspec": {
   "display_name": "Python 3 (ipykernel)",
   "language": "python",
   "name": "python3"
  },
  "language_info": {
   "codemirror_mode": {
    "name": "ipython",
    "version": 3
   },
   "file_extension": ".py",
   "mimetype": "text/x-python",
   "name": "python",
   "nbconvert_exporter": "python",
   "pygments_lexer": "ipython3",
   "version": "3.11.3"
  }
 },
 "nbformat": 4,
 "nbformat_minor": 5
}
