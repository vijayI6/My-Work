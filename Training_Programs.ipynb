{
 "cells": [
  {
   "cell_type": "code",
   "execution_count": null,
   "id": "776093f2",
   "metadata": {},
   "outputs": [],
   "source": [
    "\"\"\" --------------------TRAINING PROGRAMS-----------------------:\n",
    "4.neon number\n",
    "6. prime number\n",
    "7.gcd and lcm\n",
    "8.super number\n",
    "11.disorium number\n",
    "\n",
    "\"\"\""
   ]
  },
  {
   "cell_type": "code",
   "execution_count": 3,
   "id": "cc7b0915",
   "metadata": {},
   "outputs": [
    {
     "name": "stdout",
     "output_type": "stream",
     "text": [
      "Hello, World!\n"
     ]
    },
    {
     "data": {
      "text/plain": [
       "14"
      ]
     },
     "execution_count": 3,
     "metadata": {},
     "output_type": "execute_result"
    }
   ],
   "source": [
    "# without using print\n",
    "\n",
    "import sys\n",
    "sys.stdout.write(\"Hello, World!\\n\")"
   ]
  },
  {
   "cell_type": "code",
   "execution_count": 4,
   "id": "16092a3f",
   "metadata": {},
   "outputs": [
    {
     "name": "stdout",
     "output_type": "stream",
     "text": [
      "The len of given number is 4\n"
     ]
    }
   ],
   "source": [
    "# length without using len() function\n",
    "\n",
    "n = 1234\n",
    "c = 0\n",
    "while n:\n",
    "    rem = n % 10\n",
    "    c += 1\n",
    "    n = n // 10\n",
    "print(f'The len of given number is {c}')"
   ]
  },
  {
   "cell_type": "markdown",
   "id": "6e6a3195",
   "metadata": {},
   "source": [
    "# Factors of a Number"
   ]
  },
  {
   "cell_type": "code",
   "execution_count": 23,
   "id": "12997899",
   "metadata": {},
   "outputs": [
    {
     "name": "stdout",
     "output_type": "stream",
     "text": [
      "43\n",
      "{1, 43}\n"
     ]
    }
   ],
   "source": [
    "\"\"\"\n",
    "Factors: A number that divides another number with no remainder is called \"Factor\"\n",
    "Eg:\n",
    "    12 ÷ 1 = 12 (exactly)\n",
    "    12 ÷ 2 = 6 (exactly)\n",
    "    12 ÷ 3 = 4 (exactly)\n",
    "    12 ÷ 4 = 3 (exactly)\n",
    "    12 ÷ 6 = 2 (exactly)\n",
    "    12 ÷ 12 = 1 (exactly)\n",
    "    So, the factors of 12 are 1, 2, 3, 4, 6, and 12 because they can all divide 12 without a remainder.\n",
    "    \n",
    "\"\"\"\n",
    "num = int(input())\n",
    "factors = []\n",
    "for i in range(1,num+1):\n",
    "    if num % i == 0:\n",
    "        factors.append(i)\n",
    "print(set(factors))\n",
    "\n",
    "# factors = [i for i in range(1, num+1) if num % i == 0]  List Comprehension"
   ]
  },
  {
   "cell_type": "markdown",
   "id": "23aecce4",
   "metadata": {},
   "source": [
    "# Strong number"
   ]
  },
  {
   "cell_type": "code",
   "execution_count": 24,
   "id": "8e645d01",
   "metadata": {},
   "outputs": [
    {
     "name": "stdout",
     "output_type": "stream",
     "text": [
      "145\n",
      "145 Strong Number\n"
     ]
    }
   ],
   "source": [
    "\"\"\"\n",
    "Strong number: Sum of the factorial of individual digits in a given number is equal to given number is called \"Strong Number\"\n",
    "Eg:\n",
    "    145 # given Number\n",
    "    sume = 1! + 4! + 5! # sum of factorial of individual digits\n",
    "    number == sume  ---> Strong number\n",
    "    \n",
    "\"\"\"\n",
    "import math\n",
    "num = int(input()) \n",
    "temp = num\n",
    "s = 0\n",
    "while num:\n",
    "    rem = num % 10\n",
    "    s = s + math.factorial(rem)\n",
    "    num = num // 10\n",
    "    \n",
    "print(f'{temp} Strong Number') if temp == s else print(f'{temp} is not a Strong number') # Ternary Condition"
   ]
  },
  {
   "cell_type": "markdown",
   "id": "e6fae5f9",
   "metadata": {},
   "source": [
    "# Perfect Number"
   ]
  },
  {
   "cell_type": "code",
   "execution_count": 15,
   "id": "83cc5dd8",
   "metadata": {},
   "outputs": [
    {
     "name": "stdout",
     "output_type": "stream",
     "text": [
      "6\n",
      "6 perfect number\n"
     ]
    }
   ],
   "source": [
    "\"\"\"\n",
    "Perfect number: sum of the factors of the given number is equal to given number is called \"Perfect number\"\n",
    "Eg:\n",
    "    6 # given number\n",
    "    factors = 1,2,3,6 # we do not count last factor in the given number factors\n",
    "    given number == sum (factors of given number) --> So it is a Perfect Number \n",
    "    \n",
    "\"\"\"\n",
    "num = int(input())\n",
    "lst = []\n",
    "for i in range(1, num):\n",
    "    if num % i == 0:\n",
    "        lst.append(i)\n",
    "        \n",
    "if num == sum(lst):\n",
    "    print(f'{num} perfect number')\n",
    "else:\n",
    "    print(f'{num} Not perfect number') # f-string method in strings formatting\n"
   ]
  },
  {
   "cell_type": "markdown",
   "id": "5a949fa6",
   "metadata": {},
   "source": [
    "# Harshad Number"
   ]
  },
  {
   "cell_type": "code",
   "execution_count": 18,
   "id": "916fb599",
   "metadata": {},
   "outputs": [
    {
     "name": "stdout",
     "output_type": "stream",
     "text": [
      "1234\n",
      "1234 Not Harshad number\n"
     ]
    }
   ],
   "source": [
    "\"\"\"\n",
    "Harshad Number : Sum of individual digits in a given number is perfectly divisible by given number is called \"Harshad number\"\n",
    "Eg:\n",
    "    123 # given number\n",
    "    1+2+3 = 6 # sum of individual digits\n",
    "    123 % 6 !=0 --> So it is not a harshad number\n",
    "\"\"\"\n",
    "\n",
    "num = int(input())  # Convert input to an integer\n",
    "n = list(str(num))  # Convert the integer to a list of its digits\n",
    "n2 = list(map(int, n))  # Convert the digits back to integers\n",
    "\n",
    "print(f'{num} Harshad number') if num % sum(n2) == 0 else print(f'{num} Not Harshad number')\n",
    " "
   ]
  },
  {
   "cell_type": "markdown",
   "id": "4cd3393f",
   "metadata": {},
   "source": [
    "# Spy Number"
   ]
  },
  {
   "cell_type": "code",
   "execution_count": 21,
   "id": "c1b1dede",
   "metadata": {},
   "outputs": [
    {
     "name": "stdout",
     "output_type": "stream",
     "text": [
      "1234 Not spy number\n"
     ]
    }
   ],
   "source": [
    "\"\"\"\n",
    "Spy number: Sum of the individual digits is equal to product of individual digts in a given number is called \"Spy number\"\n",
    "Eg:\n",
    "    n = 1124\n",
    "    Sum of its digits: 1 + 1 + 2 + 4 = 8\n",
    "    Product of its digits: 1 * 1 * 2 * 4 = 8\n",
    "\n",
    "\"\"\"\n",
    "n = 1234\n",
    "temp = n\n",
    "sume = 0\n",
    "product = 1\n",
    "while n:\n",
    "    rem = n % 10\n",
    "    sume = sume + rem\n",
    "    product *= rem\n",
    "    n = n // 10\n",
    "print('{} Spy number'.format(temp)) if sume == product else print('{} Not spy number'.format(temp))\n",
    "\n",
    "                                                                                            # .format method in string format"
   ]
  },
  {
   "cell_type": "markdown",
   "id": "ce5b2bcb",
   "metadata": {},
   "source": [
    "# Neon Number"
   ]
  },
  {
   "cell_type": "code",
   "execution_count": null,
   "id": "f0c4eba5",
   "metadata": {},
   "outputs": [],
   "source": []
  }
 ],
 "metadata": {
  "kernelspec": {
   "display_name": "Python 3 (ipykernel)",
   "language": "python",
   "name": "python3"
  },
  "language_info": {
   "codemirror_mode": {
    "name": "ipython",
    "version": 3
   },
   "file_extension": ".py",
   "mimetype": "text/x-python",
   "name": "python",
   "nbconvert_exporter": "python",
   "pygments_lexer": "ipython3",
   "version": "3.11.3"
  }
 },
 "nbformat": 4,
 "nbformat_minor": 5
}
