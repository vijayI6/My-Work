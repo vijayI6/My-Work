{
 "cells": [
  {
   "cell_type": "markdown",
   "id": "3e51b44e",
   "metadata": {},
   "source": [
    "# Gcd of Two Numbers Using Math Module"
   ]
  },
  {
   "cell_type": "code",
   "execution_count": 8,
   "id": "6cbb9112",
   "metadata": {},
   "outputs": [
    {
     "name": "stdout",
     "output_type": "stream",
     "text": [
      "123\n",
      "45\n",
      "The Gcd of 123 and 45 is 3\n"
     ]
    }
   ],
   "source": [
    "'''\n",
    "GCD: The max common Factors of two given numbers is called Greatest Common Divisor\n",
    "\n",
    "'''\n",
    "\n",
    "\n",
    "import math\n",
    "num = int(input())\n",
    "num1 = int(input())\n",
    "print(f'The Gcd of {num} and {num1} is {math.gcd(num, num1)}')"
   ]
  },
  {
   "cell_type": "markdown",
   "id": "6a61e0f6",
   "metadata": {},
   "source": [
    "# Gcd of Two Numbers Without Using Math Module"
   ]
  },
  {
   "cell_type": "code",
   "execution_count": 9,
   "id": "26eab728",
   "metadata": {},
   "outputs": [
    {
     "name": "stdout",
     "output_type": "stream",
     "text": [
      "123\n",
      "45\n",
      "The GCD of 123 and 45 is 3\n"
     ]
    }
   ],
   "source": [
    "num = int(input())\n",
    "num1 = int(input())\n",
    "\n",
    "factors = []\n",
    "for x in range(1, num + 1):\n",
    "    if num % x == 0:\n",
    "        factors.append(x)\n",
    "\n",
    "fact = []\n",
    "for i in range(1, num1 + 1):\n",
    "    if num1 % i == 0:\n",
    "        fact.append(i)\n",
    "\n",
    "# Find the common factors\n",
    "common_factors = set(factors) & set(fact)\n",
    "\n",
    "# Find the maximum common factor\n",
    "gcd = max(common_factors)\n",
    "\n",
    "print(f\"The GCD of {num} and {num1} is {gcd}\")\n"
   ]
  }
 ],
 "metadata": {
  "kernelspec": {
   "display_name": "Python 3 (ipykernel)",
   "language": "python",
   "name": "python3"
  },
  "language_info": {
   "codemirror_mode": {
    "name": "ipython",
    "version": 3
   },
   "file_extension": ".py",
   "mimetype": "text/x-python",
   "name": "python",
   "nbconvert_exporter": "python",
   "pygments_lexer": "ipython3",
   "version": "3.11.3"
  }
 },
 "nbformat": 4,
 "nbformat_minor": 5
}
