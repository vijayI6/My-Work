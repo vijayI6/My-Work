{
 "cells": [
  {
   "cell_type": "code",
   "execution_count": 3,
   "id": "cc7b0915",
   "metadata": {},
   "outputs": [
    {
     "name": "stdout",
     "output_type": "stream",
     "text": [
      "Hello, World!\n"
     ]
    },
    {
     "data": {
      "text/plain": [
       "14"
      ]
     },
     "execution_count": 3,
     "metadata": {},
     "output_type": "execute_result"
    }
   ],
   "source": [
    "# without using print function \n",
    "\n",
    "import sys\n",
    "sys.stdout.write(\"Hello, World!\\n\")"
   ]
  },
  {
   "cell_type": "code",
   "execution_count": 12,
   "id": "16092a3f",
   "metadata": {},
   "outputs": [
    {
     "name": "stdout",
     "output_type": "stream",
     "text": [
      "The len of given number is 4\n"
     ]
    }
   ],
   "source": [
    "# length without using len() function\n",
    "\n",
    "n = 1234\n",
    "c = 0\n",
    "while n:\n",
    "    rem = n % 10\n",
    "    c += 1\n",
    "    n = n // 10\n",
    "print(f'The len of given number is {c}')"
   ]
  },
  {
   "cell_type": "markdown",
   "id": "6e6a3195",
   "metadata": {},
   "source": [
    "# Factors of a Number"
   ]
  },
  {
   "cell_type": "code",
   "execution_count": 14,
   "id": "12997899",
   "metadata": {},
   "outputs": [
    {
     "name": "stdout",
     "output_type": "stream",
     "text": [
      "14\n",
      "[1, 2, 14, 7]\n"
     ]
    }
   ],
   "source": [
    "\"\"\"\n",
    "Factors: A number that divides another number with no remainder is called \"Factor\"\n",
    "Eg:\n",
    "    12 ÷ 1 = 12 (exactly)\n",
    "    12 ÷ 2 = 6 (exactly)\n",
    "    12 ÷ 3 = 4 (exactly)\n",
    "    12 ÷ 4 = 3 (exactly)\n",
    "    12 ÷ 6 = 2 (exactly)\n",
    "    12 ÷ 12 = 1 (exactly)\n",
    "    So, the factors of 12 are 1, 2, 3, 4, 6, and 12 because they can all divide 12 without a remainder.\n",
    "    \n",
    "\"\"\"\n",
    "num = int(input())\n",
    "factors = []\n",
    "for i in range(1,num+1):\n",
    "    if num % i == 0:\n",
    "        factors.append(i)\n",
    "print(list(set(factors)))\n",
    "\n",
    "# factors = [i for i in range(1, num+1) if num % i == 0]  List Comprehension"
   ]
  },
  {
   "cell_type": "markdown",
   "id": "9c2f9387",
   "metadata": {},
   "source": [
    "# Disarium Number"
   ]
  },
  {
   "cell_type": "code",
   "execution_count": 2,
   "id": "b30d1391",
   "metadata": {},
   "outputs": [
    {
     "name": "stdout",
     "output_type": "stream",
     "text": [
      "89\n",
      "Disarium Number\n"
     ]
    }
   ],
   "source": [
    "\"\"\"\n",
    "Disarium Number: Sum of the individual digits of a number raised to the power of their respective positions \n",
    "                 is equal to given number is called \"Disarium Number\"\n",
    "Eg:\n",
    "    89 # given number\n",
    "    8 in 1 place\n",
    "    9 in 2 place\n",
    "    pow(8,1) + pow(9,2) = 8 + 81 == 89 --> Disarium Number\n",
    "\n",
    "\"\"\"\n",
    "num = int(input())\n",
    "temp = num\n",
    "x = num \n",
    "count = 0\n",
    "while temp:\n",
    "    temp = temp // 10 # finding positions\n",
    "    count +=1\n",
    "sume = 0\n",
    "while x:\n",
    "    rem = x % 10\n",
    "    sume = sume + pow(rem,count)\n",
    "    x = x // 10\n",
    "    count = count-1\n",
    "if sume == num:\n",
    "    print('Disarium Number')\n",
    "else:\n",
    "    print('Not Disarium Number')"
   ]
  },
  {
   "cell_type": "markdown",
   "id": "23aecce4",
   "metadata": {},
   "source": [
    "# Strong number"
   ]
  },
  {
   "cell_type": "code",
   "execution_count": 24,
   "id": "8e645d01",
   "metadata": {},
   "outputs": [
    {
     "name": "stdout",
     "output_type": "stream",
     "text": [
      "145\n",
      "145 Strong Number\n"
     ]
    }
   ],
   "source": [
    "\"\"\"\n",
    "Strong number: Sum of the factorial of individual digits in a given number is equal to given number is called \"Strong Number\"\n",
    "Eg:\n",
    "    145 # given Number\n",
    "    sume = 1! + 4! + 5! # sum of factorial of individual digits\n",
    "    number == sume  ---> Strong number\n",
    "    \n",
    "\"\"\"\n",
    "import math\n",
    "num = int(input()) \n",
    "temp = num\n",
    "s = 0\n",
    "while num:\n",
    "    rem = num % 10\n",
    "    s = s + math.factorial(rem)\n",
    "    num = num // 10\n",
    "    \n",
    "print(f'{temp} Strong Number') if temp == s else print(f'{temp} is not a Strong number') # Ternary Condition"
   ]
  },
  {
   "cell_type": "markdown",
   "id": "e6fae5f9",
   "metadata": {},
   "source": [
    "# Perfect Number"
   ]
  },
  {
   "cell_type": "code",
   "execution_count": 15,
   "id": "83cc5dd8",
   "metadata": {},
   "outputs": [
    {
     "name": "stdout",
     "output_type": "stream",
     "text": [
      "6\n",
      "6 perfect number\n"
     ]
    }
   ],
   "source": [
    "\"\"\"\n",
    "Perfect number: sum of the factors of the given number is equal to given number is called \"Perfect number\"\n",
    "Eg:\n",
    "    6 # given number\n",
    "    factors = 1,2,3,6 # we do not count last factor in the given number factors\n",
    "    given number == sum (factors of given number) --> So it is a Perfect Number \n",
    "    \n",
    "\"\"\"\n",
    "num = int(input())\n",
    "lst = []\n",
    "for i in range(1, num):\n",
    "    if num % i == 0:\n",
    "        lst.append(i)\n",
    "        \n",
    "if num == sum(lst):\n",
    "    print(f'{num} perfect number')\n",
    "else:\n",
    "    print(f'{num} Not perfect number') # f-string method in strings formatting\n"
   ]
  },
  {
   "cell_type": "markdown",
   "id": "5a949fa6",
   "metadata": {},
   "source": [
    "# Harshad Number or Niven Number"
   ]
  },
  {
   "cell_type": "code",
   "execution_count": 18,
   "id": "916fb599",
   "metadata": {},
   "outputs": [
    {
     "name": "stdout",
     "output_type": "stream",
     "text": [
      "1234\n",
      "1234 Not Harshad number\n"
     ]
    }
   ],
   "source": [
    "\"\"\"\n",
    "Harshad Number : Sum of individual digits in a given number is perfectly divisible by given number is called \"Harshad number\"\n",
    "Eg:\n",
    "    123 # given number\n",
    "    1+2+3 = 6 # sum of individual digits\n",
    "    123 % 6 !=0 --> So it is not a harshad number\n",
    "\"\"\"\n",
    "\n",
    "num = int(input())  # Convert input to an integer\n",
    "n = list(str(num))  # Convert the integer to a list of its digits\n",
    "n2 = list(map(int, n))  # Convert the digits back to integers\n",
    "\n",
    "print(f'{num} Harshad number') if num % sum(n2) == 0 else print(f'{num} Not Harshad number')\n",
    " "
   ]
  },
  {
   "cell_type": "markdown",
   "id": "4cd3393f",
   "metadata": {},
   "source": [
    "# Spy Number"
   ]
  },
  {
   "cell_type": "code",
   "execution_count": 21,
   "id": "c1b1dede",
   "metadata": {},
   "outputs": [
    {
     "name": "stdout",
     "output_type": "stream",
     "text": [
      "1234 Not spy number\n"
     ]
    }
   ],
   "source": [
    "\"\"\"\n",
    "Spy number: Sum of the individual digits is equal to product of individual digts in a given number is called \"Spy number\"\n",
    "Eg:\n",
    "    n = 1124\n",
    "    Sum of its digits: 1 + 1 + 2 + 4 = 8\n",
    "    Product of its digits: 1 * 1 * 2 * 4 = 8\n",
    "\n",
    "\"\"\"\n",
    "n = 1234\n",
    "temp = n\n",
    "sume = 0\n",
    "product = 1\n",
    "while n:\n",
    "    rem = n % 10\n",
    "    sume = sume + rem\n",
    "    product *= rem\n",
    "    n = n // 10\n",
    "print('{} Spy number'.format(temp)) if sume == product else print('{} Not spy number'.format(temp))\n",
    "\n",
    "                                                                                      # .format method in string formatting"
   ]
  },
  {
   "cell_type": "markdown",
   "id": "ce5b2bcb",
   "metadata": {},
   "source": [
    "# Neon Number"
   ]
  },
  {
   "cell_type": "code",
   "execution_count": 7,
   "id": "f0c4eba5",
   "metadata": {},
   "outputs": [
    {
     "name": "stdout",
     "output_type": "stream",
     "text": [
      "67\n",
      "67 Not neon Number\n"
     ]
    }
   ],
   "source": [
    "\"\"\"\n",
    "Neon number: Sum of individual digits in Square of the given number is equal to given number is called \"Neon Number\"\n",
    "Eg:\n",
    "    9 # given Number\n",
    "    9 ** 2 --> 81\n",
    "    8 + 1 = 9 ---> It is a Neon number\n",
    "    \n",
    "\"\"\"\n",
    "num = int(input())\n",
    "power = pow(num, 2) # num ** 2\n",
    "s = 0\n",
    "while power:\n",
    "    rem = power % 10\n",
    "    s = s + rem\n",
    "    power = power // 10\n",
    "if num == s:\n",
    "    print(f'{num} Neon Number')\n",
    "else:\n",
    "    print('{} Not neon Number'.format(num))"
   ]
  },
  {
   "cell_type": "markdown",
   "id": "e3dc244c",
   "metadata": {},
   "source": [
    "# Super Digit of a Number"
   ]
  },
  {
   "cell_type": "code",
   "execution_count": 7,
   "id": "78f18faa",
   "metadata": {},
   "outputs": [
    {
     "name": "stdout",
     "output_type": "stream",
     "text": [
      "1234567\n",
      "1 is the super digit of the number\n"
     ]
    }
   ],
   "source": [
    "\"\"\"\n",
    "Super Digit of a Number: Sum of the individual digits in a given number untill the single digit occured. \n",
    "                         The digit is called \"Super Digit of a Number\"\n",
    "Eg:\n",
    "    1234 # given number\n",
    "    1 + 2 + 3 + 4 = 10 # repeat untill single digit remain\n",
    "    1 + 0 = 1 --> Super digit of the number\n",
    "\n",
    "\"\"\"\n",
    "num = int(input())\n",
    "temp = num\n",
    "while temp >= 10:\n",
    "    s = 0\n",
    "    while temp:\n",
    "        rem = temp % 10\n",
    "        s = s + rem\n",
    "        temp = temp // 10\n",
    "    temp = s\n",
    "print(s,'is the super digit of the number')\n"
   ]
  },
  {
   "cell_type": "markdown",
   "id": "924fe54a",
   "metadata": {},
   "source": [
    "# Magic Number"
   ]
  },
  {
   "cell_type": "code",
   "execution_count": 6,
   "id": "7a130e4b",
   "metadata": {},
   "outputs": [
    {
     "name": "stdout",
     "output_type": "stream",
     "text": [
      "1234\n",
      " Magic Number\n"
     ]
    }
   ],
   "source": [
    "\"\"\"\n",
    "Magic Number: Sum of the individual digits in a given number untill the single digit occured.\n",
    "              if the single digit is \"1\" is called \"Magic Number\"\n",
    "Eg:\n",
    "    532 # given Number\n",
    "    5 + 3 + 2 = 10  # repeat untill single digit remain\n",
    "    1 + 0 = 1 --> Magic number\n",
    "\"\"\"\n",
    "num = int(input())\n",
    "temp = num\n",
    "while temp >= 10 :\n",
    "    s  = 0\n",
    "    while temp:\n",
    "        rem = temp % 10\n",
    "        s = s + rem\n",
    "        temp = temp // 10\n",
    "    temp = s\n",
    "if temp == 1:\n",
    "    print(' Magic Number')\n",
    "else:\n",
    "    print('Not a Magic Number')"
   ]
  },
  {
   "cell_type": "markdown",
   "id": "8bdbf777",
   "metadata": {},
   "source": [
    "# Happy Number"
   ]
  },
  {
   "cell_type": "code",
   "execution_count": 11,
   "id": "f9e438bd",
   "metadata": {},
   "outputs": [
    {
     "name": "stdout",
     "output_type": "stream",
     "text": [
      "18\n",
      "Not Happy Number\n"
     ]
    }
   ],
   "source": [
    "\"\"\"\n",
    "Happy Number: Recursively finding sum of the Squares of individual digits in a given number untill the sum became single digit\n",
    "              if sum == 1 --> Happy Number\n",
    "Eg:\n",
    "    49 # given Number\n",
    "    9 ** 2 + 4 ** 2 = 97 # repeat untill it became single digit\n",
    "    9 ** 2 + 7 ** 2 = 130 # repeat\n",
    "    1 ** 2 + 3 ** 2 + 0 ** 2 = 10 # repeat\n",
    "    1 ** 2 + 0 ** 2 = 1 ---> Happy number\n",
    "\n",
    "\"\"\"\n",
    "num = int(input())\n",
    "temp = num\n",
    "while temp >= 10:\n",
    "    s = 0\n",
    "    while temp:\n",
    "        rem = temp % 10\n",
    "        s = s + pow(rem ,2) # rem ** 2\n",
    "        temp = temp // 10\n",
    "    temp = s\n",
    "print('Happy Number') if temp == 1 else print('Not Happy Number')"
   ]
  },
  {
   "cell_type": "markdown",
   "id": "be107475",
   "metadata": {},
   "source": [
    "# Pronic Number"
   ]
  },
  {
   "cell_type": "code",
   "execution_count": 9,
   "id": "9267d10a",
   "metadata": {},
   "outputs": [
    {
     "name": "stdout",
     "output_type": "stream",
     "text": [
      "56\n",
      "7 x 8\n",
      "56 is a Pronic Number\n"
     ]
    }
   ],
   "source": [
    "\"\"\"\n",
    "Pronic Number: Product of two consecutive numbers is equal to the given number is called \"Pronic Number\"\n",
    "Eg:\n",
    "    6 # given number\n",
    "    2 x 3 = 6 ---> Pronic Number\n",
    "    \n",
    "\"\"\"\n",
    "num = int(input())\n",
    "flag = 0\n",
    "for i in range(1, num+1):\n",
    "    if (i *(i + 1)) == num:\n",
    "        print(f'{i} x {i+1}')\n",
    "        flag = 1\n",
    "        break\n",
    "        \n",
    "if flag == 1 or num == 0:\n",
    "    print(f'{num} is a Pronic Number')\n",
    "else:\n",
    "    print(f'{num} is not a Pronic Number')"
   ]
  },
  {
   "cell_type": "markdown",
   "id": "d6256f29",
   "metadata": {},
   "source": [
    "# Buzz Number"
   ]
  },
  {
   "cell_type": "code",
   "execution_count": 31,
   "id": "83998377",
   "metadata": {},
   "outputs": [
    {
     "name": "stdout",
     "output_type": "stream",
     "text": [
      "14\n",
      "14 is a Buzz Number\n"
     ]
    }
   ],
   "source": [
    "\"\"\"\n",
    "Buzz Number: If the given number ends with 7 or divisible 7 is called \"Buzz Number\"\n",
    "Eg:\n",
    "    107 # given Number\n",
    "    107 % 10 == 7 ---> Buzz Number\n",
    "    \n",
    "\"\"\"\n",
    "num = int(input())\n",
    "if num % 10 == 7 or num % 7 ==0:\n",
    "    print(num, 'is a Buzz Number')\n",
    "else:\n",
    "    print(num,'is not a Buzz Number')"
   ]
  },
  {
   "cell_type": "markdown",
   "id": "32f89e55",
   "metadata": {},
   "source": [
    "# Special Number"
   ]
  },
  {
   "cell_type": "code",
   "execution_count": 6,
   "id": "20264ec1",
   "metadata": {},
   "outputs": [
    {
     "name": "stdout",
     "output_type": "stream",
     "text": [
      "0\n",
      "Special number\n"
     ]
    }
   ],
   "source": [
    "\"\"\"\n",
    "special Number: Sum of the Factorial of individual digits of a given number is equal to given number is called \"Special Number\"\n",
    "Eg:\n",
    "    145 # given number\n",
    "    1! + 4! + 5!\n",
    "    1 + 24 + 120 = 145 --> special Number\n",
    "\n",
    "\"\"\"\n",
    "import math\n",
    "num = int(input())\n",
    "temp = num\n",
    "s = 0\n",
    "while temp:\n",
    "    rem = temp % 10\n",
    "    s = s + math.factorial(rem)\n",
    "    temp = temp // 10\n",
    "print('Special number') if num == s else print('Not Special Number')"
   ]
  },
  {
   "cell_type": "markdown",
   "id": "93f40883",
   "metadata": {},
   "source": [
    "# Fascinating Number"
   ]
  },
  {
   "cell_type": "code",
   "execution_count": 18,
   "id": "03b329ff",
   "metadata": {},
   "outputs": [
    {
     "name": "stdout",
     "output_type": "stream",
     "text": [
      "273\n",
      "273 fascinating number\n"
     ]
    }
   ],
   "source": [
    "\"\"\"\n",
    "Fascinating Number: --> For checking the given number is facinating number the number must be 3 digit number\n",
    "                    --> Multiplying the given number by 2 and 3\n",
    "                    --> concatenate the result of multiplying 2 and 3 including given number\n",
    "                    --> The result contain 1 to 9 in any order exactly once --->\"Fascinating Number\"\n",
    "Eg:\n",
    "    273 # given number\n",
    "    273 * 2 --> 546\n",
    "    273 * 3 --> 819\n",
    "    res = 273546819 --> fascinating Number\n",
    "    \n",
    "\"\"\"\n",
    "num = input()\n",
    "temp = num\n",
    "if len(str(num)) < 3:\n",
    "    print(num,'is not a fascinating Number')\n",
    "else:\n",
    "    n = num\n",
    "    n1 = n * 2\n",
    "    n2 = n * 3\n",
    "    res = str(n) + str(n1) + str(n2)\n",
    "    for num in res:\n",
    "        if len(res) != 9  or res.count(num) > 1 or res.count(num) == 0:\n",
    "            flag = 1\n",
    "            break\n",
    "if flag != 1:\n",
    "    print(n,'is a fascinating number')\n",
    "else:\n",
    "    print(n,'fascinating number')"
   ]
  },
  {
   "cell_type": "markdown",
   "id": "46e0e175",
   "metadata": {},
   "source": [
    "# Sunny Number"
   ]
  },
  {
   "cell_type": "code",
   "execution_count": 21,
   "id": "45d3a19e",
   "metadata": {},
   "outputs": [
    {
     "name": "stdout",
     "output_type": "stream",
     "text": [
      "3\n",
      "Sunny number\n"
     ]
    }
   ],
   "source": [
    "\"\"\"\n",
    "Sunny Number: If the given number + 1 (next number) is a perfect square then it is called \"Sunny Number\"\n",
    "Eg:\n",
    "    3 # given number\n",
    "    3 + 1 = 4 == perfect square --> sunny Number\n",
    "    \n",
    "\"\"\"\n",
    "num = int(input())\n",
    "n = num + 1\n",
    "flag = 0\n",
    "for i in range(1,n):\n",
    "    if i * i == n:\n",
    "        flag = 1\n",
    "print('Sunny number') if flag == 1 else print('Not a Sunny Number')"
   ]
  },
  {
   "cell_type": "markdown",
   "id": "bc34f6f0",
   "metadata": {},
   "source": [
    "# Unique Number"
   ]
  },
  {
   "cell_type": "code",
   "execution_count": 13,
   "id": "7d6fa308",
   "metadata": {},
   "outputs": [
    {
     "name": "stdout",
     "output_type": "stream",
     "text": [
      "1234\n",
      "Unique Number\n"
     ]
    }
   ],
   "source": [
    "\"\"\"\n",
    "Unique Number: No duplicate digits in a number is called \"Unique Number\"\n",
    "Eg:\n",
    "    12345 # given number\n",
    "    there is no repetation of digit in a given number so it is unique number\n",
    "\n",
    "\"\"\"\n",
    "num = input()\n",
    "lst = list(map(int,num))\n",
    "flag= 0\n",
    "for i in lst:\n",
    "    if lst.count(i)>1:\n",
    "        flag = 1\n",
    "print('Unique Number') if flag == 0 else print('Not Unique Number')"
   ]
  },
  {
   "cell_type": "markdown",
   "id": "e0823b37",
   "metadata": {},
   "source": [
    "# Automorphic Number\n"
   ]
  },
  {
   "cell_type": "code",
   "execution_count": 31,
   "id": "580c59f4",
   "metadata": {},
   "outputs": [
    {
     "name": "stdout",
     "output_type": "stream",
     "text": [
      "25\n",
      "Automorphic number\n"
     ]
    }
   ],
   "source": [
    "\"\"\"\n",
    "Automorphic Number: Square of the given number ends with given number is called \"Automorphic Number\"\n",
    "Eg:\n",
    "    5 # given number\n",
    "    5 ** 2 = 25 ends with given number --> Automorphic Number\n",
    "\n",
    "\"\"\"\n",
    "num = int(input())\n",
    "temp = num\n",
    "sq = num ** 2\n",
    "t = 10\n",
    "flag = 0  # Initialize flag to 0 \n",
    "\n",
    "while num > 0:  # Change the condition to num > 0\n",
    "    rem = sq % t\n",
    "    if rem == temp:\n",
    "        flag = 1\n",
    "        break\n",
    "    num = num // 10\n",
    "    t = t * 10   \n",
    "    \n",
    "if flag == 1:\n",
    "    print('Automorphic number')\n",
    "else:\n",
    "    print('Not Automorphic Number')\n"
   ]
  },
  {
   "cell_type": "markdown",
   "id": "539ffe4c",
   "metadata": {},
   "source": [
    "# Trimorphic Number"
   ]
  },
  {
   "cell_type": "code",
   "execution_count": 19,
   "id": "d611e54e",
   "metadata": {},
   "outputs": [
    {
     "name": "stdout",
     "output_type": "stream",
     "text": [
      "4\n",
      "4 Trimorphic Number\n"
     ]
    }
   ],
   "source": [
    "\"\"\"\n",
    "Trimorphic Number: Cube of the given number is ends with given number is called \"Trimorphic Number\"\n",
    "Eg:\n",
    "    5 # given number\n",
    "    125 # cube of given number\n",
    "    125 % 10 --> 5\n",
    "    125 % 100 --> 25\n",
    "    125 % 1000 --> 125   -->Trimorphic Number  \n",
    "\"\"\"\n",
    "num = int(input())\n",
    "cube = num ** 3\n",
    "temp = num\n",
    "t = 10\n",
    "flag = 0\n",
    "while num:\n",
    "    rem = cube % t\n",
    "    if rem == temp:\n",
    "        flag = 1\n",
    "        break\n",
    "    num = num // 10\n",
    "    t = t * 10\n",
    "\n",
    "if flag == 1:\n",
    "    print(temp, 'Trimorphic Number')\n",
    "else:\n",
    "    print(temp, 'Not trimorphic Number')   "
   ]
  },
  {
   "cell_type": "markdown",
   "id": "12724718",
   "metadata": {},
   "source": [
    "# Gcd of Number"
   ]
  },
  {
   "cell_type": "code",
   "execution_count": 10,
   "id": "beefc4ab",
   "metadata": {},
   "outputs": [
    {
     "name": "stdout",
     "output_type": "stream",
     "text": [
      "34\n",
      "35\n",
      "gcd of 34 and 35 is 1\n"
     ]
    }
   ],
   "source": [
    "\"\"\"\n",
    "GCD : Greatest common divisor --> factors of the given numbers\n",
    "                             ---> max common factor of the given numbers ---> GCD\n",
    "Eg:\n",
    "    12 14 # given numbers\n",
    "    12 --> 1, 2, 3, 4, 6, 12\n",
    "    14 --> 1, 2, 14, 7\n",
    "    \n",
    "    1,2 are common factors --> '2' is gcd of 12 and 14\n",
    "                             \n",
    "\"\"\"\n",
    "import math\n",
    "num = int(input())\n",
    "num1 = int(input())\n",
    "print(f'gcd of {num} and {num1} is {math.gcd(num,num1)}')"
   ]
  }
 ],
 "metadata": {
  "kernelspec": {
   "display_name": "Python 3 (ipykernel)",
   "language": "python",
   "name": "python3"
  },
  "language_info": {
   "codemirror_mode": {
    "name": "ipython",
    "version": 3
   },
   "file_extension": ".py",
   "mimetype": "text/x-python",
   "name": "python",
   "nbconvert_exporter": "python",
   "pygments_lexer": "ipython3",
   "version": "3.11.3"
  }
 },
 "nbformat": 4,
 "nbformat_minor": 5
}
